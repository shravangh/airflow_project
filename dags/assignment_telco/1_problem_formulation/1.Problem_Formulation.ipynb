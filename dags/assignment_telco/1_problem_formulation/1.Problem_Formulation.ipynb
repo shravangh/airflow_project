{
 "cells": [
  {
   "cell_type": "markdown",
   "metadata": {},
   "source": [
    "# GROUP-107 DMML ASSIGNMENT-1"
   ]
  },
  {
   "cell_type": "markdown",
   "metadata": {},
   "source": [
    "Group No - 107\n",
    "Group Member Names:\n",
    "1. Shivanshu Sharma - 2024ab05031 - 100% Contribution\n",
    "2. Shravan GH - 2024ab05028 - 100% Contribution\n",
    "3. Rahul Sharma - 2024AA05893 - 100% Contribution"
   ]
  },
  {
   "cell_type": "markdown",
   "metadata": {},
   "source": [
    "# 1. Business problem"
   ]
  },
  {
   "cell_type": "markdown",
   "metadata": {},
   "source": [
    "The telecom company is experiencing customer churn, where existing subscribers discontinue their services and potentially move to competitors. This results in:\n",
    "\n",
    "1. Revenue loss from the termination of ongoing subscriptions.\n",
    "\n",
    "2. Increased costs due to the need for acquiring new customers to replace churned ones.\n",
    "\n",
    "3. Indirect impacts, such as negative customer influence and competitive disadvantages.\n",
    "\n",
    "Given the competitive landscape of the telecom industry and high customer acquisition costs, minimizing churn has become a critical business priority. The challenge lies in identifying customers who are most likely to churn and addressing their issues proactively through retention strategies."
   ]
  },
  {
   "cell_type": "markdown",
   "metadata": {},
   "source": [
    "# 2. Key business objectives"
   ]
  },
  {
   "cell_type": "markdown",
   "metadata": {},
   "source": [
    "1. Predict Customer Churn:\n",
    "    Build a machine learning model using customer data (from CSV and SQLite sources) that predicts the likelihood of churn.\n",
    "\n",
    "2. Data Pipeline Automation:\n",
    "    Design and implement an automated pipeline to collect, clean, integrate, and process data from multiple sources (CSV files, SQLite database) into a form suitable for predictive modeling.\n",
    "\n",
    "3. Improve Retention Strategy:\n",
    "    Enable the business to proactively target high-risk customers with tailored interventions (e.g., offers, support, loyalty programs).\n",
    "\n",
    "4. Optimize Costs:\n",
    "    Reduce dependence on costly customer acquisition by retaining existing customers, thus maximizing Customer Lifetime Value (CLV).\n",
    "\n",
    "5. Enable Scalability:\n",
    "    Ensure the pipeline is robust and scalable."
   ]
  },
  {
   "cell_type": "markdown",
   "metadata": {},
   "source": [
    "# 3. Data Sources and their attributes"
   ]
  },
  {
   "cell_type": "markdown",
   "metadata": {},
   "source": [
    "1. CSV file (Telco customer curn dataset) and its attributes\n",
    "\n",
    "    'customerID', 'gender', 'SeniorCitizen', 'Partner', 'Dependents', 'PhoneService', 'MultipleLines', 'InternetService', 'OnlineSecurity', 'OnlineBackup', 'DeviceProtection', 'TechSupport', 'StreamingTV','StreamingMovies', 'Contract', 'PaperlessBilling', 'PaymentMethod', 'Churn'\n",
    "\n",
    "2. DB Data (The transactional details of the same customers) and its attributes\n",
    "\n",
    "    'customerID', 'tenure', 'MonthlyCharges', 'TotalCharges'\n",
    "\n",
    "\n"
   ]
  },
  {
   "cell_type": "markdown",
   "metadata": {},
   "source": [
    "# 4. Define the expected outputs from the pipeline:\n",
    "\n"
   ]
  },
  {
   "cell_type": "markdown",
   "metadata": {},
   "source": [
    "Expected outputs from pipeline:\n",
    "\n",
    "1. Raw data to be saved in csv and db folder respectively\n",
    "2. Validation reports to be generated in .csv format\n",
    "3. Cleaned and processed dataset to be stored as .csv file\n",
    "4. The above file to be stored in database\n",
    "5. The stored datashould have version control and tracked\n",
    "6. Trained model should predict with good accuracy\n",
    "7. Logs should be managed for each process in dag\n"
   ]
  },
  {
   "cell_type": "markdown",
   "metadata": {},
   "source": [
    "# 5. Evaluation metrics\n",
    "\n"
   ]
  },
  {
   "cell_type": "markdown",
   "metadata": {},
   "source": [
    "Since the problem statement is a classification task and the corrective measures to be taken to reatin customers, f-1 score and accuracy are the evaluation metric to look for."
   ]
  }
 ],
 "metadata": {
  "kernelspec": {
   "display_name": "Python 3",
   "language": "python",
   "name": "python3"
  },
  "language_info": {
   "codemirror_mode": {
    "name": "ipython",
    "version": 3
   },
   "file_extension": ".py",
   "mimetype": "text/x-python",
   "name": "python",
   "nbconvert_exporter": "python",
   "pygments_lexer": "ipython3",
   "version": "3.12.3"
  }
 },
 "nbformat": 4,
 "nbformat_minor": 2
}
